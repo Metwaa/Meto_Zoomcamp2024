{
 "cells": [
  {
   "cell_type": "code",
   "execution_count": null,
   "id": "7716a274-379f-45c0-bdfe-93113329b736",
   "metadata": {},
   "outputs": [
    {
     "name": "stdout",
     "output_type": "stream",
     "text": [
      "Hello World in codespaces\n"
     ]
    }
   ],
   "source": [
    "print('Hello World in codespaces') \n"
   ]
  },
  {
   "cell_type": "code",
   "execution_count": null,
   "id": "a238a2a8-ccf0-47bb-ab61-aa687adc2a93",
   "metadata": {},
   "outputs": [],
   "source": []
  }
 ],
 "metadata": {
  "kernelspec": {
   "display_name": "Python 3 (ipykernel)",
   "language": "python",
   "name": "python3"
  },
  "language_info": {
   "codemirror_mode": {
    "name": "ipython",
    "version": 3
   },
   "file_extension": ".py",
   "mimetype": "text/x-python",
   "name": "python",
   "nbconvert_exporter": "python",
   "pygments_lexer": "ipython3",
   "version": "3.10.13"
  }
 },
 "nbformat": 4,
 "nbformat_minor": 5
}
